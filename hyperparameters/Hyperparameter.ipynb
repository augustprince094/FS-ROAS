{
 "cells": [
  {
   "cell_type": "code",
   "execution_count": 1,
   "id": "e1f1ec89",
   "metadata": {},
   "outputs": [],
   "source": [
    "import numpy as np \n",
    "import pandas as pd \n",
    "import matplotlib.pyplot as plt \n",
    "import seaborn as sns \n",
    "\n",
    "from IPython.display import display\n",
    "import warnings\n",
    "warnings.filterwarnings('ignore')"
   ]
  },
  {
   "cell_type": "code",
   "execution_count": 2,
   "id": "92f57bec",
   "metadata": {},
   "outputs": [
    {
     "data": {
      "text/plain": [
       "Index(['Indicator Code', 'FP index ', 'LP index ', 'Vegetal Pds-FS',\n",
       "       'Cereals -FS', 'Starchy Rts-FS', 'Pulses-FS', 'Fruits -FS', 'Meat-FS',\n",
       "       'Fish-FS', 'Sugar & Swt-FS', 'Oils-FS ', 'Vegetables-FS ', 'Spices-FS',\n",
       "       'Eggs-FS', 'Milk-FS', 'Cereals-LSF', 'Starchy Rts-LSF', 'Pulses-LSF',\n",
       "       'Meat-LSF', 'Fish-LSF', 'Cereals-LS', 'Starchy-LS', 'Fruits-LS',\n",
       "       'Energy use', 'Renewable energy ', 'GHGEs ', 'AG land ',\n",
       "       'Agricultural water share ', 'Surface temp.', 'Overweight', 'Obese',\n",
       "       'Death-NCD ', 'Life expectancy '],\n",
       "      dtype='object')"
      ]
     },
     "execution_count": 2,
     "metadata": {},
     "output_type": "execute_result"
    }
   ],
   "source": [
    "SEED = 7\n",
    "np.random.seed(SEED)\n",
    "\n",
    "#Data preparing \n",
    "data = pd.read_excel(\"Revised data.xlsx\")\n",
    "data.columns"
   ]
  },
  {
   "cell_type": "code",
   "execution_count": 3,
   "id": "7494fcc6",
   "metadata": {},
   "outputs": [],
   "source": [
    "X_data = data[[ 'FP index ', 'LP index ', 'Vegetal Pds-FS',\n",
    "       'Cereals -FS', 'Starchy Rts-FS', 'Pulses-FS', 'Fruits -FS', 'Meat-FS',\n",
    "       'Fish-FS', 'Sugar & Swt-FS', 'Oils-FS ', 'Vegetables-FS ', 'Spices-FS',\n",
    "       'Eggs-FS', 'Milk-FS', 'Cereals-LSF', 'Starchy Rts-LSF', 'Pulses-LSF',\n",
    "       'Meat-LSF', 'Fish-LSF', 'Cereals-LS', 'Starchy-LS', 'Fruits-LS',\n",
    "       'Energy use', 'Renewable energy ']]\n",
    "Y_data = data[['GHGEs ', 'AG land ',\n",
    "       'Agricultural water share ', 'Surface temp.', 'Overweight', 'Obese','Death-NCD ', 'Life expectancy ']]    "
   ]
  },
  {
   "cell_type": "code",
   "execution_count": 4,
   "id": "d0d24cf5",
   "metadata": {},
   "outputs": [],
   "source": [
    "Env_data = [X_data,Y_data[(['GHGEs ', 'AG land ',\n",
    "       'Agricultural water share ', 'Surface temp.'])]]\n",
    "\n",
    "Health_data = [X_data,Y_data[(['Overweight', 'Obese','Death-NCD ', 'Life expectancy '])]]\n",
    "\n",
    "\n",
    "\n",
    "Environ_data = pd.concat(Env_data, axis =1)\n",
    "Healthimp_data = pd.concat(Health_data, axis =1)"
   ]
  },
  {
   "cell_type": "code",
   "execution_count": 5,
   "id": "f100ed81",
   "metadata": {},
   "outputs": [],
   "source": [
    "from sklearn.preprocessing import StandardScaler\n",
    "from sklearn.model_selection import train_test_split\n",
    "from sklearn.model_selection import GridSearchCV\n",
    "\n",
    "X_data=Healthimp_data[[ 'FP index ', 'LP index ', 'Vegetal Pds-FS',\n",
    "       'Cereals -FS', 'Starchy Rts-FS', 'Pulses-FS', 'Fruits -FS', 'Meat-FS',\n",
    "       'Fish-FS', 'Sugar & Swt-FS', 'Oils-FS ', 'Vegetables-FS ', 'Spices-FS',\n",
    "       'Eggs-FS', 'Milk-FS', 'Cereals-LSF', 'Starchy Rts-LSF', 'Pulses-LSF',\n",
    "       'Meat-LSF', 'Fish-LSF', 'Cereals-LS', 'Starchy-LS', 'Fruits-LS',\n",
    "       'Energy use', 'Renewable energy ']]\n",
    "Y_data = Healthimp_data[['Overweight','Obese', 'Death-NCD ', 'Life expectancy ']]\n",
    "\n",
    "scaler = StandardScaler(copy=False)\n",
    "scaler.fit(X_data)\n",
    "scaler.transform(X_data) \n",
    "\n",
    "scaler = StandardScaler(copy=False)\n",
    "scaler.fit(X_data)\n",
    "XX = scaler.transform(X_data) \n",
    "\n",
    "X_x = pd.DataFrame(XX, columns = ['FP index ', 'LP index ', 'Vegetal Pds-FS',\n",
    "       'Cereals -FS', 'Starchy Rts-FS', 'Pulses-FS', 'Fruits -FS', 'Meat-FS',\n",
    "       'Fish-FS', 'Sugar & Swt-FS', 'Oils-FS ', 'Vegetables-FS ', 'Spices-FS',\n",
    "       'Eggs-FS', 'Milk-FS', 'Cereals-LSF', 'Starchy Rts-LSF', 'Pulses-LSF',\n",
    "       'Meat-LSF', 'Fish-LSF', 'Cereals-LS', 'Starchy-LS', 'Fruits-LS',\n",
    "       'Energy use', 'Renewable energy '], dtype = float )\n",
    "\n",
    "x_train = X_x[:52]\n",
    "x_test = X_x[52:]\n",
    "y_train = Y_data[:52]\n",
    "y_test = Y_data[52:]"
   ]
  },
  {
   "cell_type": "code",
   "execution_count": 6,
   "id": "a1105f97",
   "metadata": {},
   "outputs": [],
   "source": [
    "# Importing all models and libraries \n",
    "from sklearn.datasets import load_linnerud\n",
    "from sklearn.multioutput import MultiOutputRegressor\n",
    "from sklearn.model_selection import StratifiedKFold\n",
    "from sklearn.model_selection import cross_val_score, KFold\n",
    "from sklearn.datasets import load_linnerud\n",
    "from sklearn.multioutput import MultiOutputRegressor\n",
    "from sklearn.ensemble import AdaBoostRegressor\n",
    "from sklearn.neighbors import KNeighborsRegressor\n",
    "from sklearn.linear_model import ElasticNet, Lasso, Ridge, LogisticRegression, LinearRegression\n",
    "from sklearn.neural_network import MLPRegressor\n",
    "from sklearn.ensemble import RandomForestRegressor\n",
    "from sklearn.linear_model import Ridge\n",
    "from sklearn.ensemble import GradientBoostingRegressor\n",
    "from sklearn.svm import SVR\n",
    "from pyGRNN import GRNN\n",
    "IGRNN = GRNN()\n",
    "rounds = 20\n",
    "\n"
   ]
  },
  {
   "cell_type": "markdown",
   "id": "6584e9b8",
   "metadata": {},
   "source": [
    "# Adboost model"
   ]
  },
  {
   "cell_type": "code",
   "execution_count": null,
   "id": "9bb6353e",
   "metadata": {},
   "outputs": [
    {
     "name": "stdout",
     "output_type": "stream",
     "text": [
      "nested_score [0.9728161  0.962645   0.99020709]\n",
      "nested_score [0.97877864 0.97486629 0.9802228 ]\n",
      "nested_score [0.98518021 0.98390498 0.97094118]\n",
      "nested_score [0.98422445 0.98370321 0.98690527]\n"
     ]
    }
   ],
   "source": [
    "grid_param_Adb = {'estimator__learning_rate':[0.001,0.01,0.1,1,2],\n",
    "                   'estimator__loss':['linear'], \n",
    "                   'estimator__n_estimators':[30,40,50,60,70]\n",
    "                    }\n",
    "#Create arrays to store the scores\n",
    "not_nested_scores_Adb  = np.zeros(rounds)\n",
    "nested_scores_Adb = np.zeros(rounds)\n",
    "\n",
    "for i in range(rounds):\n",
    "\n",
    "   #Define both cross-validation objects (inner & outer)\n",
    "   inner_cv = KFold(n_splits=5, shuffle=True, random_state=i)\n",
    "   outer_cv = KFold(n_splits=3, shuffle=True, random_state=i)\n",
    "\n",
    "\n",
    "   # Non-nested parameter search and scoring\n",
    "   clf_Adb  = GridSearchCV(estimator=MultiOutputRegressor(AdaBoostRegressor()), param_grid=grid_param_Adb , cv=inner_cv)\n",
    "   clf_Adb.fit(x_train,y_train)\n",
    "   not_nested_scores_Adb [i] = clf_Adb.best_score_\n",
    "\n",
    "   # Nested CV with parameter optimization\n",
    "   nested_score_Adb = cross_val_score(clf_Adb, x_train,y_train, cv=outer_cv)\n",
    "   nested_scores_Adb[i] = nested_score_Adb.mean()\n",
    "   print(\"nested_score\",nested_score_Adb)\n",
    "print(\"R2_nested:\",nested_scores_Adb.mean() )\n",
    "print(\"R2 non_nested:\",not_nested_scores_Adb.mean())\n",
    "print( clf_Adb.best_params_)"
   ]
  },
  {
   "cell_type": "code",
   "execution_count": null,
   "id": "44041ce5",
   "metadata": {},
   "outputs": [],
   "source": [
    "plt.style.use('seaborn')\n",
    "plt.tight_layout()\n",
    "plt.figure(figsize=(7,5))\n",
    "sns.set(font_scale=1.2)\n",
    "outer_scores_line, = plt.plot(not_nested_scores_Adb, color='orange', linewidth=3.5)\n",
    "nested_line, = plt.plot(nested_scores_Adb, color='steelblue', linewidth=3.5)\n",
    "# plt.ylim(0.95, 0.995)\n",
    "plt.ylabel(\"Cross-validation score\", fontsize=\"15\")\n",
    "plt.xlabel(\"Number of trials\", fontsize=\"15\")\n",
    "plt.legend([outer_scores_line, nested_line],\n",
    "          [\"Non-Nested CV_AdaBoost\", \"Nested CV_AdaBoost\"],\n",
    "          bbox_to_anchor=(0, .18, 1.02, 0), fontsize = 13)\n",
    "# plt.title(\"Non-Nested vs Nested Cross-Validation\",\n",
    "#          x=.5, y=1.1, fontsize=\"15\")\n",
    "plt.savefig('Cross-val_Adaboost.png', dpi = 1000, bbox_inches='tight')"
   ]
  },
  {
   "cell_type": "markdown",
   "id": "f31b3fa3",
   "metadata": {},
   "source": [
    "# GRNN model "
   ]
  },
  {
   "cell_type": "code",
   "execution_count": null,
   "id": "90a1dc01",
   "metadata": {},
   "outputs": [],
   "source": [
    "grid_param_IGRNN = { 'estimator__kernel':[\"RBF\"],\n",
    "                 'estimator__sigma' : [0.01, 0.1,0.4, 1 , 2,4,10],\n",
    "                 'estimator__calibration' : ['None'], 'estimator__n_restarts_optimizer':[1,0, 0.01, 0.001]\n",
    "                    }\n",
    "\n",
    "\n",
    "\n",
    "\n",
    "\n",
    "#Create arrays to store the scores\n",
    "not_nested_scores_IGRNN = np.zeros(rounds)\n",
    "nested_scores_IGRNN = np.zeros(rounds)\n",
    "\n",
    "for i in range(rounds):\n",
    "\n",
    "   #Define both cross-validation objects (inner & outer)\n",
    "   inner_cv = KFold(n_splits=5, shuffle=True, random_state=i)\n",
    "   outer_cv = KFold(n_splits=3, shuffle=True, random_state=i)\n",
    "\n",
    "\n",
    "   # Non-nested parameter search and scoring\n",
    "   clf_IGRNN  = GridSearchCV(estimator=MultiOutputRegressor(IGRNN), param_grid=grid_param_IGRNN , cv=inner_cv)\n",
    "   clf_IGRNN.fit(x_train,y_train)\n",
    "   not_nested_scores_IGRNN [i] = clf_IGRNN.best_score_\n",
    "\n",
    "   # Nested CV with parameter optimization\n",
    "   nested_score_IGRNN = cross_val_score(clf_IGRNN, x_train,y_train, cv=outer_cv)\n",
    "   nested_scores_IGRNN[i] = nested_score_IGRNN.mean()\n",
    "   print(\"nested_score\",nested_score_IGRNN )\n",
    "print(\"R2 nested:\",nested_scores_IGRNN.mean() )\n",
    "print(\"R2 not_nested:\",not_nested_scores_IGRNN.mean())\n",
    "print( clf_IGRNN.best_params_)"
   ]
  },
  {
   "cell_type": "code",
   "execution_count": null,
   "id": "d78d528e",
   "metadata": {},
   "outputs": [],
   "source": [
    "plt.style.use('seaborn')\n",
    "sns.set(font_scale=1.2)\n",
    "plt.tight_layout()\n",
    "plt.figure(figsize=(7,5))\n",
    "outer_scores_line, = plt.plot(not_nested_scores_IGRNN, color='orange',  linewidth=3.5)\n",
    "nested_line, = plt.plot(nested_scores_IGRNN, color='steelblue',  linewidth=3.5)\n",
    "plt.ylabel(\"Cross-validation score\", fontsize=\"15\")\n",
    "plt.xlabel(\"Number of trials\", fontsize=\"15\")\n",
    "plt.ylim(0.97, 0.99)\n",
    "plt.legend([outer_scores_line, nested_line],\n",
    "          [\"Non-Nested CV_IGRNN\", \"Nested CV_IGRNN\"],\n",
    "          bbox_to_anchor=(0, .2, 1, 0), fontsize = 13)\n",
    "# plt.title(\"Non-Nested vs Nested Cross-Validation\",\n",
    "#          x=.5, y=1.1, fontsize=\"15\")\n",
    "# plt.savefig('Cross_val IGRNN.png', dpi = 1000, bbox_inches='tight')"
   ]
  },
  {
   "cell_type": "markdown",
   "id": "282d5a90",
   "metadata": {},
   "source": [
    "# KNN model "
   ]
  },
  {
   "cell_type": "code",
   "execution_count": null,
   "id": "2eebc933",
   "metadata": {},
   "outputs": [],
   "source": [
    "grid_param_knn = {'estimator__leaf_size':[1,5, 10 ,15],\n",
    "                   'estimator__n_neighbors':[2,3,4,5,6], \n",
    "                    'estimator__p':[2,3,4,5]\n",
    "                    }\n",
    "#Create arrays to store the scores\n",
    "not_nested_scores_knn  = np.zeros(rounds)\n",
    "nested_scores_knn = np.zeros(rounds)\n",
    "\n",
    "for i in range(rounds):\n",
    "\n",
    "   #Define both cross-validation objects (inner & outer)\n",
    "   inner_cv = KFold(n_splits=5, shuffle=True, random_state=i)\n",
    "   outer_cv = KFold(n_splits=3, shuffle=True, random_state=i)\n",
    "\n",
    "\n",
    "   # Non-nested parameter search and scoring\n",
    "   clf_knn  = GridSearchCV(estimator=MultiOutputRegressor(KNeighborsRegressor()), param_grid=grid_param_knn , cv=inner_cv)\n",
    "   clf_knn.fit(x_train,y_train)\n",
    "   not_nested_scores_knn [i] = clf_knn.best_score_\n",
    "\n",
    "   # Nested CV with parameter optimization\n",
    "   nested_score_knn = cross_val_score(clf_knn, x_train,y_train, cv=outer_cv)\n",
    "   nested_scores_knn[i] = nested_score_knn.mean()\n",
    "   print(\"nested_score\",nested_score_knn)\n",
    "print(\"R2 nested:\",nested_scores_knn.mean() )\n",
    "print(\"R2 not nested:\",not_nested_scores_knn.mean())\n",
    "print( clf_knn.best_params_)"
   ]
  },
  {
   "cell_type": "code",
   "execution_count": null,
   "id": "53ce9f57",
   "metadata": {},
   "outputs": [],
   "source": [
    "plt.style.use('seaborn')\n",
    "plt.tight_layout()\n",
    "plt.figure(figsize=(7,5))\n",
    "sns.set(font_scale=1.2)\n",
    "outer_scores_line, = plt.plot(not_nested_scores_knn, color='orange', linewidth=3.5)\n",
    "nested_line, = plt.plot(nested_scores_knn, color='steelblue',  linewidth=3.5)\n",
    "plt.ylabel(\"Cross-validation score\", fontsize=\"15\")\n",
    "plt.xlabel(\"Number of trials\", fontsize=\"15\")\n",
    "plt.legend([outer_scores_line, nested_line],\n",
    "          [\"Non-Nested CV_kNN\", \"Nested CV_kNN\"],\n",
    "          bbox_to_anchor=(0, .2, 1, 0), fontsize = 13)\n",
    "# plt.title(\"Non-Nested vs Nested Cross-Validation\",\n",
    "#          x=.5, y=1.1, fontsize=15)\n",
    "# plt.savefig('Cross-val_KNN.png', dpi = 1000, bbox_inches='tight')"
   ]
  },
  {
   "cell_type": "markdown",
   "id": "95077157",
   "metadata": {},
   "source": [
    "# LASSO "
   ]
  },
  {
   "cell_type": "code",
   "execution_count": null,
   "id": "1abc1338",
   "metadata": {},
   "outputs": [],
   "source": [
    "grid_param_Lasso = {'estimator__alpha': [0,1], 'estimator__max_iter': [1000,1200,1500,200], \n",
    "                    'estimator__tol': [0.0001,0.001,0.01,0.1],\n",
    "                   'estimator__fit_intercept': [True]\n",
    "                    }\n",
    "#Create arrays to store the scores\n",
    "not_nested_scores_Lasso  = np.zeros(rounds)\n",
    "nested_scores_Lasso = np.zeros(rounds)\n",
    "\n",
    "for i in range(rounds):\n",
    "\n",
    "   #Define both cross-validation objects (inner & outer)\n",
    "   inner_cv = KFold(n_splits=5, shuffle=True, random_state=i)\n",
    "   outer_cv = KFold(n_splits=3, shuffle=True, random_state=i)\n",
    "\n",
    "\n",
    "   # Non-nested parameter search and scoring\n",
    "   clf_Lasso  = GridSearchCV(estimator=MultiOutputRegressor(Lasso()), param_grid=grid_param_Lasso , cv=inner_cv)\n",
    "   clf_Lasso.fit(x_train,y_train)\n",
    "   not_nested_scores_Lasso [i] = clf_Lasso.best_score_\n",
    "\n",
    "   # Nested CV with parameter optimization\n",
    "   nested_score_Lasso = cross_val_score(clf_Lasso, x_train,y_train, cv=outer_cv)\n",
    "   nested_scores_Lasso[i] = nested_score_Lasso.mean()\n",
    "   print(\"nested_score\",nested_score_Lasso )\n",
    "print(\"R2 nested:\",nested_scores_Lasso.mean() )\n",
    "print(\"R2 not_nested:\",not_nested_scores_Lasso.mean())\n",
    "print( clf_Lasso.best_params_)"
   ]
  },
  {
   "cell_type": "code",
   "execution_count": null,
   "id": "6b4e27ec",
   "metadata": {},
   "outputs": [],
   "source": [
    "plt.style.use('seaborn')\n",
    "plt.tight_layout()\n",
    "plt.figure(figsize=(7,5))\n",
    "sns.set(font_scale=1.2)\n",
    "outer_scores_line, = plt.plot(not_nested_scores_Lasso, color='orange',linewidth=3.5)\n",
    "nested_line, = plt.plot(nested_scores_Lasso, color='steelblue', linewidth=3.5)\n",
    "plt.ylabel(\"Cross-validation score\", fontsize=\"15\")\n",
    "plt.xlabel(\"Number of trials\", fontsize=\"15\")\n",
    "plt.ylim(0.85, 0.99)\n",
    "plt.legend([outer_scores_line, nested_line],\n",
    "          [\"Non-Nested CV_Lasso\", \"Nested CV_Lasso\"],\n",
    "          bbox_to_anchor=(0, .2, 1, 0), fontsize = 13)\n",
    "# plt.title(\"Non-Nested vs Nested Cross-Validation\",\n",
    "#          x=.5, y=1.1, fontsize=\"15\")\n",
    "# plt.savefig('Cross_val Lasso.png', dpi = 1000, bbox_inches='tight')"
   ]
  },
  {
   "cell_type": "markdown",
   "id": "c4853312",
   "metadata": {},
   "source": [
    "# MLP "
   ]
  },
  {
   "cell_type": "code",
   "execution_count": null,
   "id": "080dffb9",
   "metadata": {},
   "outputs": [],
   "source": [
    "grid_param_MLP = { 'estimator__activation':['identity', 'logistic', 'tanh', 'relu'], \n",
    "                  'estimator__alpha':[0.0001,0.0002], 'estimator__max_iter': [500, 1000,1500], 'estimator__learning_rate_init':\n",
    "                 [0.001,0.002,0.015]}\n",
    "#Create arrays to store the scores\n",
    "not_nested_scores_MLP  = np.zeros(rounds)\n",
    "nested_scores_MLP = np.zeros(rounds)\n",
    "\n",
    "for i in range(rounds):\n",
    "\n",
    "   #Define both cross-validation objects (inner & outer)\n",
    "   inner_cv = KFold(n_splits=5, shuffle=True, random_state=i)\n",
    "   outer_cv = KFold(n_splits=3, shuffle=True, random_state=i)\n",
    "\n",
    "\n",
    "   # Non-nested parameter search and scoring\n",
    "   clf_MLP = GridSearchCV(estimator=MultiOutputRegressor(MLPRegressor()), param_grid=grid_param_MLP , cv=inner_cv)\n",
    "   clf_MLP.fit(x_train,y_train)\n",
    "   not_nested_scores_MLP [i] = clf_MLP.best_score_\n",
    "\n",
    "   # Nested CV with parameter optimization\n",
    "   nested_score_MLP = cross_val_score(clf_MLP, x_train,y_train, cv=outer_cv)\n",
    "   nested_scores_MLP[i] = nested_score_MLP.mean()\n",
    "   print(\"nested_score\",nested_score_MLP )\n",
    "print(\"R2 nested:\",nested_scores_MLP.mean() )\n",
    "print(\"R2 non nested:\",not_nested_scores_MLP.mean())\n",
    "print( clf_MLP.best_params_)"
   ]
  },
  {
   "cell_type": "code",
   "execution_count": null,
   "id": "618b3e99",
   "metadata": {},
   "outputs": [],
   "source": [
    "plt.style.use('seaborn')\n",
    "\n",
    "plt.tight_layout()\n",
    "plt.figure(figsize=(7,5))\n",
    "sns.set(font_scale=1.2)\n",
    "outer_scores_line, = plt.plot(not_nested_scores_MLP, color='orange',linewidth=3.5)\n",
    "nested_line, = plt.plot(nested_scores_MLP, color='steelblue', linewidth=3.5)\n",
    "plt.ylabel(\"Cross-validation score\", fontsize=\"14\")\n",
    "plt.xlabel(\"Number of trials\", fontsize=\"14\")\n",
    "plt.legend([outer_scores_line, nested_line],\n",
    "          [\"Non-Nested CV_MLP\", \"Nested CV_MLP\"],\n",
    "          bbox_to_anchor=(0, .2, .5, 0))\n",
    "# plt.title(\"Non-Nested vs Nested Cross-Validation\",\n",
    "#          x=.5, y=1.1, fontsize=\"15\")\n",
    "# plt.savefig('Cross-val_MLP.png', dpi = 1000, bbox_inches='tight')"
   ]
  },
  {
   "cell_type": "markdown",
   "id": "cbc3a4cf",
   "metadata": {},
   "source": [
    "# Random Forest"
   ]
  },
  {
   "cell_type": "code",
   "execution_count": null,
   "id": "1dd18d32",
   "metadata": {},
   "outputs": [],
   "source": [
    "grid_param_RF = {'estimator__ccp_alpha':[0,0.01], 'estimator__max_depth':[1,2,3,4,5], \n",
    "                'estimator__n_estimators':[100,120,150,175,200,250]}\n",
    "#Create arrays to store the scores\n",
    "not_nested_scores_RF  = np.zeros(rounds)\n",
    "nested_scores_RF = np.zeros(rounds)\n",
    "\n",
    "for i in range(rounds):\n",
    "\n",
    "   #Define both cross-validation objects (inner & outer)\n",
    "   inner_cv = KFold(n_splits=5, shuffle=True, random_state=i)\n",
    "   outer_cv = KFold(n_splits=3, shuffle=True, random_state=i)\n",
    "\n",
    "\n",
    "   # Non-nested parameter search and scoring\n",
    "   clf_RF  = GridSearchCV(estimator=MultiOutputRegressor(RandomForestRegressor()), param_grid=grid_param_RF , cv=inner_cv)\n",
    "   clf_RF.fit(x_train,y_train)\n",
    "   not_nested_scores_RF [i] = clf_RF.best_score_\n",
    "\n",
    "   # Nested CV with parameter optimization\n",
    "   nested_score_RF = cross_val_score(clf_RF, x_train,y_train, cv=outer_cv)\n",
    "   nested_scores_RF[i] = nested_score_RF.mean()\n",
    "   print(\"nested_score\",nested_score_RF )\n",
    "#    print(\"nested_score\",not_nested_scores_RF )\n",
    "print(\"R2 nested:\",nested_scores_RF.mean() )\n",
    "print(\"R2 non_nested:\",not_nested_scores_RF.mean())\n",
    "print( clf_RF.best_params_)"
   ]
  },
  {
   "cell_type": "code",
   "execution_count": null,
   "id": "2242f850",
   "metadata": {},
   "outputs": [],
   "source": [
    "plt.style.use('seaborn')\n",
    "plt.tight_layout()\n",
    "plt.figure(figsize=(7,5))\n",
    "sns.set(font_scale=1.2)\n",
    "outer_scores_line, = plt.plot(not_nested_scores_RF, color='orange', linewidth=3.5)\n",
    "nested_line, = plt.plot(nested_scores_RF, color='steelblue', linewidth=3.5)\n",
    "plt.ylabel(\"Cross-validation score\", fontsize=\"15\")\n",
    "plt.xlabel(\"Number of trials\", fontsize=\"15\")\n",
    "plt.legend([outer_scores_line, nested_line],\n",
    "          [\"Non-Nested CV_RF\", \"Nested CV_RF\"],\n",
    "          bbox_to_anchor=(0, .2, 1, 0), fontsize = 13)\n",
    "# plt.title(\"Non-Nested vs Nested Cross-Validation\", x=.5, y=1.1, fontsize=\"15\")\n",
    "# plt.savefig('Cross_val RandomFor.png', dpi = 1000, bbox_inches='tight')"
   ]
  },
  {
   "cell_type": "markdown",
   "id": "a10d3ed3",
   "metadata": {},
   "source": [
    "# Ridge model "
   ]
  },
  {
   "cell_type": "code",
   "execution_count": null,
   "id": "4ea49595",
   "metadata": {},
   "outputs": [],
   "source": [
    "grid_param_Ridge = {'estimator__alpha': [0.01,0.1,0.2],        \n",
    "                    'estimator__max_iter':[1000,1500,2000],                \n",
    "                    'estimator__solver':['auto', 'svd', 'cholesky', 'lsqr', 'sparse_cg', 'sag', 'saga', 'lbfgs'],\n",
    "                    'estimator__tol':[0.0001,0.001,0.1]\n",
    "                    }\n",
    "#Create arrays to store the scores\n",
    "not_nested_scores_Ridge  = np.zeros(rounds)\n",
    "nested_scores_Ridge = np.zeros(rounds)\n",
    "\n",
    "for i in range(rounds):\n",
    "\n",
    "   #Define both cross-validation objects (inner & outer)\n",
    "   inner_cv = KFold(n_splits=5, shuffle=True, random_state=i)\n",
    "   outer_cv = KFold(n_splits=3, shuffle=True, random_state=i)\n",
    "\n",
    "\n",
    "   # Non-nested parameter search and scoring\n",
    "   clf_Ridge = GridSearchCV(estimator=MultiOutputRegressor(Ridge()), param_grid=grid_param_Ridge , cv=inner_cv)\n",
    "   clf_Ridge.fit(x_train,y_train)\n",
    "   not_nested_scores_Ridge [i] = clf_Ridge.best_score_\n",
    "\n",
    "   # Nested CV with parameter optimization\n",
    "   nested_score_Ridge= cross_val_score(clf_Ridge, x_train,y_train, cv=outer_cv)\n",
    "   nested_scores_Ridge[i] = nested_score_Ridge.mean()\n",
    "   print(\"nested_score\",nested_score_Ridge )\n",
    "print(\"R2 nested:\",nested_scores_Ridge.mean() )\n",
    "print(\"R2 non nested:\",not_nested_scores_Ridge.mean())\n",
    "print( clf_Ridge.best_params_)"
   ]
  },
  {
   "cell_type": "code",
   "execution_count": null,
   "id": "738fe5c3",
   "metadata": {},
   "outputs": [],
   "source": [
    "plt.style.use('seaborn')\n",
    "plt.tight_layout()\n",
    "plt.figure(figsize=(7,5))\n",
    "sns.set(font_scale=1.2)\n",
    "outer_scores_line, = plt.plot(not_nested_scores_Ridge, color='orange', linewidth=3.5)\n",
    "nested_line, = plt.plot(nested_scores_Ridge, color='steelblue', linewidth=3.5)\n",
    "plt.ylabel(\"Cross-validation score\", fontsize=\"15\")\n",
    "plt.xlabel(\"Number of trials\", fontsize=\"15\")\n",
    "plt.legend([outer_scores_line, nested_line],\n",
    "          [\"Non-Nested CV_Ridge\", \"Nested CV_Ridge\"],\n",
    "          bbox_to_anchor=(0, .18, .5, 0), fontsize = 13)\n",
    "# plt.title(\"Non-Nested vs Nested Cross-Validation\",\n",
    "#          x=.5, y=1.1, fontsize=\"15\")\n",
    "# plt.savefig('Cross_val Ridge.png', dpi = 1000, bbox_inches='tight')"
   ]
  },
  {
   "cell_type": "markdown",
   "id": "9192d68f",
   "metadata": {},
   "source": [
    "# SVR Model "
   ]
  },
  {
   "cell_type": "code",
   "execution_count": null,
   "id": "c6434742",
   "metadata": {},
   "outputs": [],
   "source": [
    "grid_param_SVR = {'estimator__C': [1,2,3], 'estimator__cache_size':[100,200], 'estimator__coef0':[0,0.01,0.001], \n",
    "                  'estimator__degree': [3,4,5], 'estimator__epsilon':[0.1,0.2,0.3], 'estimator__gamma':['auto'], \n",
    "                  'estimator__kernel':['linear', 'poly', 'rbf', 'sigmoid', 'precomputed']\n",
    "                    }\n",
    "#Create arrays to store the scores\n",
    "not_nested_scores_SVR = np.zeros(rounds)\n",
    "nested_scores_SVR = np.zeros(rounds)\n",
    "\n",
    "for i in range(rounds):\n",
    "\n",
    "   #Define both cross-validation objects (inner & outer)\n",
    "   inner_cv = KFold(n_splits=5, shuffle=True, random_state=i)\n",
    "   outer_cv = KFold(n_splits=3, shuffle=True, random_state=i)\n",
    "\n",
    "\n",
    "   # Non-nested parameter search and scoring\n",
    "   clf_SVR  = GridSearchCV(estimator=MultiOutputRegressor(SVR()), param_grid=grid_param_SVR , cv=inner_cv)\n",
    "   clf_SVR.fit(x_train,y_train)\n",
    "   not_nested_scores_SVR [i] = clf_SVR.best_score_\n",
    "\n",
    "   # Nested CV with parameter optimization\n",
    "   nested_score_SVR = cross_val_score(clf_SVR, x_train,y_train, cv=outer_cv)\n",
    "   nested_scores_SVR[i] = nested_score_SVR.mean()\n",
    "   print(\"nested_score\",nested_score_SVR )\n",
    "print(\"R2 nested:\",nested_scores_SVR.mean() )\n",
    "print(\"R2 non_nested:\",not_nested_scores_SVR.mean())\n",
    "print( clf_SVR.best_params_)"
   ]
  },
  {
   "cell_type": "code",
   "execution_count": null,
   "id": "eb6af7c1",
   "metadata": {},
   "outputs": [],
   "source": [
    "plt.style.use('seaborn')\n",
    "plt.tight_layout()\n",
    "plt.figure(figsize=(7,5))\n",
    "sns.set(font_scale=1.2)\n",
    "outer_scores_line, = plt.plot(not_nested_scores_SVR, color='orange',linewidth=3.5)\n",
    "nested_line, = plt.plot(nested_scores_SVR, color='steelblue', linewidth=3.5)\n",
    "plt.ylabel(\"Cross-validation score\", fontsize=\"15\")\n",
    "plt.xlabel(\"Number of trials\", fontsize=\"15\")\n",
    "plt.legend([outer_scores_line, nested_line],\n",
    "          [\"Non-Nested CV_SVR\", \"Nested CV_SVR\"],\n",
    "          bbox_to_anchor=(0, .2, 1, 0), fontsize = 13)\n",
    "# plt.title(\"Non-Nested vs Nested Cross-Validation\",\n",
    "#          x=.5, y=1.1, fontsize=\"15\")\n",
    "# plt.savefig('Cross_val SVR.png', dpi = 1000, bbox_inches='tight')"
   ]
  },
  {
   "cell_type": "markdown",
   "id": "4058acc2",
   "metadata": {},
   "source": [
    "# XGB model "
   ]
  },
  {
   "cell_type": "code",
   "execution_count": null,
   "id": "74ec9c25",
   "metadata": {},
   "outputs": [],
   "source": [
    "grid_param_XGB = {'estimator__alpha':[0.7,0.8,0.9,1.0,1.1], 'estimator__ccp_alpha':[0,0.001,0.01]}\n",
    "#Create arrays to store the scores\n",
    "not_nested_scores_XGB  = np.zeros(rounds)\n",
    "nested_scores_XGB = np.zeros(rounds)\n",
    "\n",
    "for i in range(rounds):\n",
    "\n",
    "   #Define both cross-validation objects (inner & outer)\n",
    "   inner_cv = KFold(n_splits=5, shuffle=True, random_state=i)\n",
    "   outer_cv = KFold(n_splits=3, shuffle=True, random_state=i)\n",
    "\n",
    "\n",
    "   # Non-nested parameter search and scoring\n",
    "   clf_XGB = GridSearchCV(estimator=MultiOutputRegressor(GradientBoostingRegressor()), param_grid=grid_param_XGB , cv=inner_cv)\n",
    "   clf_XGB.fit(x_train,y_train)\n",
    "   not_nested_scores_XGB [i] = clf_XGB.best_score_\n",
    "\n",
    "   # Nested CV with parameter optimization\n",
    "   nested_score_XGB = cross_val_score(clf_XGB, x_train,y_train, cv=outer_cv)\n",
    "   nested_scores_XGB[i] = nested_score_XGB.mean()\n",
    "   print(\"nested_score\",nested_score_XGB )\n",
    "print(\"R2 nested:\",nested_scores_XGB.mean() )\n",
    "print(\"R2 non_nested:\",not_nested_scores_XGB.mean())\n",
    "print( clf_XGB.best_params_)"
   ]
  },
  {
   "cell_type": "code",
   "execution_count": null,
   "id": "6bb0427d",
   "metadata": {},
   "outputs": [],
   "source": [
    "plt.style.use('seaborn')\n",
    "sns.set(font_scale=1.2)\n",
    "plt.tight_layout()\n",
    "plt.figure(figsize=(7,5))\n",
    "outer_scores_line, = plt.plot(not_nested_scores_XGB, color='orange', linewidth=3.5)\n",
    "nested_line, = plt.plot(nested_scores_XGB, color='steelblue', linewidth=3.5)\n",
    "plt.ylabel(\"Cross-validation score\", fontsize=\"15\")\n",
    "plt.xlabel(\"Number of trials\", fontsize=\"15\")\n",
    "plt.legend([outer_scores_line, nested_line],\n",
    "          [\"Non-Nested CV_XGB\", \"Nested CV_XGB\"],\n",
    "          bbox_to_anchor=(0, .2, 1, 0),  fontsize=\"13\")\n",
    "# plt.title(\"Non-Nested vs Nested Cross-Validation\",\n",
    "#          x=.5, y=1.1, fontsize=\"15\")\n",
    "# plt.savefig('Cross_val XGB.png', dpi = 1000, bbox_inches='tight')"
   ]
  }
 ],
 "metadata": {
  "kernelspec": {
   "display_name": "Python 3 (ipykernel)",
   "language": "python",
   "name": "python3"
  },
  "language_info": {
   "codemirror_mode": {
    "name": "ipython",
    "version": 3
   },
   "file_extension": ".py",
   "mimetype": "text/x-python",
   "name": "python",
   "nbconvert_exporter": "python",
   "pygments_lexer": "ipython3",
   "version": "3.9.12"
  }
 },
 "nbformat": 4,
 "nbformat_minor": 5
}
